{
 "cells": [
  {
   "cell_type": "markdown",
   "metadata": {
    "deletable": true,
    "editable": true,
    "slideshow": {
     "slide_type": "slide"
    }
   },
   "source": [
    "![](initiativeSahel.png)\n",
    "\n",
    "---\n",
    "\n",
    "\n",
    "![](sat2.png)\n",
    "\n"
   ]
  },
  {
   "cell_type": "markdown",
   "metadata": {
    "deletable": true,
    "editable": true,
    "slideshow": {
     "slide_type": "slide"
    }
   },
   "source": [
    "### A propos des #DataStory\n",
    "  - Une *#DataStory* est l'analyse *#DataDriven* d'une zone géographique ou encore d'une thématique. \n",
    "  - Elle a pour objectif d'identifier les besoins locaux pour maximiser et prioriser nos activités\n",
    "  - C'est une aventure collective construite autour d'équipe de 10-15 agents (géo, technique, #digitalab)\n",
    "  - Le mode opératoire est le *makestorming*: trois 1/2 journées de travail collectif\n",
    "  - C'est enfin un outil de capitalisation et de communication qui a vocation à être approprié, amélioré, répliqué.\n",
    "    \n",
    "*Crédits: #CHAG*"
   ]
  },
  {
   "cell_type": "markdown",
   "metadata": {
    "deletable": true,
    "editable": true,
    "slideshow": {
     "slide_type": "slide"
    }
   },
   "source": [
    "<br>\n",
    "### A propos de l'initiative Sahel 2017\n",
    "---\n",
    "\n",
    "Explication, objectif, nouveauté, delais etc"
   ]
  },
  {
   "cell_type": "markdown",
   "metadata": {
    "deletable": true,
    "editable": true,
    "slideshow": {
     "slide_type": "slide"
    }
   },
   "source": [
    "## Sommaire:\n",
    "\n",
    "--- \n",
    "\n",
    "[1. Introduction: contexte socio-économique](#Introduction:-contexte-socio-économique)<br>\n",
    "[2. Enjeux démographiques](#2.-Enjeux-démographiques)<br>\n",
    "[3. Développement local](#3.-Développement-local)<br>\n",
    "[4. Insertion socioéconomique des jeunes](#4.-Insertion-socioéconomique-des-jeunes)<br>\n",
    "[5. Gouvernance et sécurité](#5.-Gouvernance)<br>\n",
    "[6. Conclusion](#Conclusion)<br>\n",
    "\n"
   ]
  },
  {
   "cell_type": "markdown",
   "metadata": {
    "deletable": true,
    "editable": true,
    "slideshow": {
     "slide_type": "slide"
    }
   },
   "source": [
    "<br>\n",
    "## Introduction: contexte socio-économique\n",
    "---\n",
    "\n",
    "![](http://afd.countrydashboards.com/datastory/socioeco_Mercy Corps.png)\n",
    "*<small>Copyright: Raymond Woronko</small>*\n",
    "--\n",
    "\n",
    "---\n",
    "**Indicateurs sélectionnés**:\n",
    "\n",
    "##### Macroéconomie\n",
    "- Taux de Croissance du PIB  | Banque Mondiale | code: [NY.GDP.MKTP.KD.ZG](http://data.worldbank.org/indicator/NY.GDP.MKTP.KD.ZG)\n",
    "- PIB par habitant PPP (Constant 2011 international USD) | Banque Mondiale | code: [NY.GDP.PCAP.PP.KD](http://data.worldbank.org/indicator/NY.GDP.PCAP.PP.KD)\n",
    "- Investissement total (% PIB)| FMI-WEO | code: [NID_NGDP]()\n",
    "- Inflation (% évolution), Average Consumer Prices | FMI-WEO | code: [PCPIPCH]()\n",
    "- General Government Revenu (%GDP) | FMI - WEO | code: [GGR_NGDP]()\n",
    "- General Government Total Expenditure (%GDP) | FMI - WEO | code: [GGX_NGDP]()\n",
    "- General Government Gross Debt %GDP | FMI - WEO | code: [GGXWDG_NGDP]()"
   ]
  },
  {
   "cell_type": "markdown",
   "metadata": {
    "deletable": true,
    "editable": true,
    "slideshow": {
     "slide_type": "slide"
    }
   },
   "source": [
    "##### Revenu\n",
    "\n",
    "**Croissance du PIB** et **PIB Par Habitants**\n",
    "Discussion\n",
    "Taux supérieurs aux moyennes mondiales mais une forte volatitlité\n",
    "\n",
    "Si en terme de revenu ses pays sont en dessus des moyennes régionales en terme d'investissements ils se rapprochent de la moyenne.. etc.\n",
    "\n",
    "Analyse: Seule la Mauritanie possède un PIB/capita dans la moyenne des pays d'Afrique Sub-saharienne. Le Mali et le Tchad puis le Burkina et enfin le Niger ferment la marche, etc.\n",
    "\n",
    "<table style=\"border:0\">\n",
    "<td style=\" width:500px\">\n",
    "<iframe src=\"http://afd.countrydashboards.com/dataviz/TimeSerie_NY_GDP_MKTP_KD_ZG_+Sahel.html\" scrolling=\"no\" frameborder=\"0\" width=\"100%\" height=\"525px\"></iframe>\n",
    "</td><td style=\" width:500px\">\n",
    "<iframe src=\"http://afd.countrydashboards.com/dataviz/map_NY_GDP_PCAP_PP_KD_Sahel.html\" scrolling=\"no\" frameborder=\"0\" width=\"100%\" height=\"525px\"></iframe>\n",
    "</td>\n",
    "</table>"
   ]
  },
  {
   "cell_type": "markdown",
   "metadata": {
    "deletable": true,
    "editable": true,
    "slideshow": {
     "slide_type": "slide"
    }
   },
   "source": [
    "#### Investissement total (% PIB) et Inflation (% évolution)\n",
    "\n",
    "\n",
    "<table style=\"border:0\">\n",
    "<td style=\" width:500px\"><iframe src=\"http://afd.countrydashboards.com/dataviz/TimeSerie_NID_NGDP_+Sahel.html\" scrolling=\"no\" frameborder=\"0\" width=\"100%\" height=\"525px\"></iframe>\n",
    "</td>\n",
    "<td style=\" width:500px\">\n",
    "<iframe src=\"http://afd.countrydashboards.com/dataviz/TimeSerie_PCPIPCH_+Sahel.html\" scrolling=\"no\" frameborder=\"0\" width=\"100%\" height=\"525px\"></iframe>\n",
    "</td>\n",
    "</table>"
   ]
  },
  {
   "cell_type": "markdown",
   "metadata": {
    "deletable": true,
    "editable": true,
    "slideshow": {
     "slide_type": "slide"
    }
   },
   "source": [
    "##### Recette publique (%PIB)  et Dépenses publiques totales (%PIB)\n",
    "\n",
    "\n",
    "<table style=\"border:0\">\n",
    "<td style=\" width:500px\"><iframe src=\"http://afd.countrydashboards.com/dataviz/TimeSerie_GGR_NGDP_+Sahel.html\" scrolling=\"no\" frameborder=\"0\" width=\"100%\" height=\"525px\"></iframe>\n",
    "</td>\n",
    "<td style=\" width:500px\">\n",
    "<iframe src=\"http://afd.countrydashboards.com/dataviz/TimeSerie_GGX_NGDP_+Sahel.html\" scrolling=\"no\" frameborder=\"0\" width=\"100%\" height=\"525px\"></iframe>\n",
    "</td>\n",
    "</table>\n",
    "\n"
   ]
  },
  {
   "cell_type": "markdown",
   "metadata": {
    "deletable": true,
    "editable": true,
    "slideshow": {
     "slide_type": "slide"
    }
   },
   "source": [
    "##### Dette publique brute (% PIB)  (General Government Gross Debt %GDP)\n",
    "\n",
    "<table style=\"border:0\">\n",
    "<td style=\" width:500px\"><iframe src=\"http://afd.countrydashboards.com/dataviz/TimeSerie_GGXWDG_NGDP_+Sahel.html\" scrolling=\"no\" frameborder=\"0\" width=\"100%\" height=\"525px\"></iframe>\n",
    "\n",
    "</td>\n",
    "<td style=\" width:500px\">\n",
    "<iframe src=\"http://afd.countrydashboards.com/dataviz/map_GGXWDG_NGDP_Sahel.html\" scrolling=\"no\" frameborder=\"0\" width=\"100%\" height=\"525px\"></iframe>\n",
    "</td>\n",
    "</table>\n"
   ]
  },
  {
   "cell_type": "markdown",
   "metadata": {
    "deletable": true,
    "editable": true,
    "slideshow": {
     "slide_type": "slide"
    }
   },
   "source": [
    "\n",
    "##### Dépenses\n",
    "- Dépenses de santé du Gouvernement, total (% du PIB) | Banque Mondiale | code: [SH.XPD.TOTL.ZS](http://data.worldbank.org/indicator/SH.XPD.TOTL.ZS)\n",
    "- Dépenses d'éducation du Gouvernement, total (% of PIB) | Banque Mondiale | code: [SE.XPD.TOTL.GD.ZS](http://data.worldbank.org/indicator/SE.XPD.TOTL.GD.ZS)\n",
    "\n",
    "**Sources:** Banque Mondiale, FMI\n",
    "\n",
    "---"
   ]
  },
  {
   "cell_type": "markdown",
   "metadata": {
    "deletable": true,
    "editable": true
   },
   "source": [
    "#### Dépenses de Santé et d'éducation\n",
    "\n",
    "<table style=\"border:0\">\n",
    "<td style=\" width:500px\">\n",
    "<iframe src=\"http://afd.countrydashboards.com/dataviz/TimeSerie_SH_XPD_TOTL_ZS_+Sahel.html\" scrolling=\"no\" frameborder=\"0\" width=\"100%\" height=\"450px\"></iframe>\n",
    "</td><td style=\" width:500px\">\n",
    "<iframe src=\"http://afd.countrydashboards.com/dataviz/TimeSerie_SE_XPD_TOTL_GD_ZS_+Sahel.html\" scrolling=\"no\" frameborder=\"0\" width=\"100%\" height=\"450px\"></iframe>\n",
    "</td>\n",
    "</table>\n",
    "\n",
    "\n"
   ]
  },
  {
   "cell_type": "markdown",
   "metadata": {
    "deletable": true,
    "editable": true,
    "slideshow": {
     "slide_type": "slide"
    }
   },
   "source": [
    "<br>\n",
    "\n",
    "## II. Enjeux démographiques\n",
    "---\n",
    "\n",
    "![](http://afd.countrydashboards.com/datastory/demo_raymond_woronko.png)\n",
    "*<small>Copyright: Raymond Woronko</small>*\n",
    "--\n",
    "---\n",
    "\n",
    "\n",
    "texte introductif\n",
    "\n",
    "Carte Sahel infra national (Estimations issues census => Mathias)\n",
    "\n",
    "\n",
    "<iframe src=\"http://afd.countrydashboards.com/datastory/demographic_sahel.html\" scrolling=\"no\" frameborder=\"0\" width=\"100%\" height=\"675px\"></iframe>\n",
    "\n"
   ]
  },
  {
   "cell_type": "markdown",
   "metadata": {
    "deletable": true,
    "editable": true,
    "slideshow": {
     "slide_type": "slide"
    }
   },
   "source": [
    "##### Santé\n",
    "\n",
    "- Espérence de vie à la naissance, femmes (années) | Banque Mondiale | code: [SP.DYN.LE00.FE.IN](http://data.worldbank.org/indicator/SP.DYN.LE00.FE.IN)\n",
    "- Espérence de vie à la naissance, hommes (années) | Banque Mondiale | code: [SP.DYN.LE00.MA.IN](http://data.worldbank.org/indicator/SP.DYN.LE00.MA.IN)\n",
    "       \n",
    "<table style=\"border:0\">\n",
    "<td style=\" width:500px\">\n",
    "<iframe src=\"http://afd.countrydashboards.com/dataviz/TimeSerie_SP_DYN_LE00_FE_IN_+Sahel.html\" scrolling=\"no\" frameborder=\"0\" width=\"100%\" height=\"450px\"></iframe>\n",
    "</td><td style=\" width:500px\">\n",
    "<iframe src=\"http://afd.countrydashboards.com/dataviz/TimeSerie_SP_DYN_LE00_MA_IN_+Sahel.html\" scrolling=\"no\" frameborder=\"0\" width=\"100%\" height=\"450px\"></iframe>\n",
    "</td>\n",
    "</table>"
   ]
  },
  {
   "cell_type": "markdown",
   "metadata": {
    "deletable": true,
    "editable": true
   },
   "source": [
    "##### Education\n",
    "\n",
    "- Taux d'alphabetisation, jeunes femmes (% des femmes ages 15-24) | Banque Mondiale | code: [SE.ADT.1524.LT.FE.ZS](http://data.worldbank.org/indicator/SE.ADT.1524.LT.FE.ZS)\n",
    "- Taux d'alphabetisation, jeunes hommes (% des hommes ages 15-24) | Banque Mondiale | code: [SE.ADT.1524.LT.MA.ZS](http://data.worldbank.org/indicator/SE.ADT.1524.LT.MA.ZS)\n",
    "\n",
    "\n",
    "       \n",
    "<table style=\"border:0\">\n",
    "<td style=\" width:500px\">\n",
    "<iframe src=\"http://afd.countrydashboards.com/dataviz/TimeSerie_SE_ADT_1524_LT_FE_ZS_+Sahel.html\" scrolling=\"no\" frameborder=\"0\" width=\"100%\" height=\"450px\"></iframe>\n",
    "</td><td style=\" width:500px\">\n",
    "<iframe src=\"http://afd.countrydashboards.com/dataviz/TimeSerie_SE_ADT_1524_LT_MA_ZS_+Sahel.html\" scrolling=\"no\" frameborder=\"0\" width=\"100%\" height=\"450px\"></iframe>\n",
    "</td>\n",
    "</table>"
   ]
  },
  {
   "cell_type": "markdown",
   "metadata": {
    "deletable": true,
    "editable": true,
    "slideshow": {
     "slide_type": "slide"
    }
   },
   "source": [
    "**Exemple d'identification des besoins d'enseignants au Mali**\n",
    "<iframe width=\"100%\" height=\"650\" frameborder=\"0\" src=\"https://rocathomas.carto.com/viz/1c4933d0-d96c-11e5-8ad9-0e31c9be1b51/embed_map\" allowfullscreen webkitallowfullscreen mozallowfullscreen oallowfullscreen msallowfullscreen></iframe>"
   ]
  },
  {
   "cell_type": "markdown",
   "metadata": {
    "deletable": true,
    "editable": true,
    "slideshow": {
     "slide_type": "slide"
    }
   },
   "source": [
    "<br>\n",
    "\n",
    "## III. Développement local\n",
    "--- \n",
    "\n",
    "![](http://afd.countrydashboards.com/datastory/socioeco3 cnn.png)\n",
    "*<small>Copyright: CNN</small>*\n",
    "--\n",
    "\n",
    "\n",
    "\n",
    "texte introductif\n",
    "\n",
    "\n",
    "<iframe src=\"http://afd.countrydashboards.com/datastory/Dev_local.html\" scrolling=\"no\" frameborder=\"0\" width=\"100%\" height=\"675px\"></iframe>\n",
    "\n"
   ]
  },
  {
   "cell_type": "markdown",
   "metadata": {
    "deletable": true,
    "editable": true
   },
   "source": [
    "##### Infrastructure\n",
    "- Accès à une source d'eau potable (% de la population ayant access) | Banque Mondiale | code: [SH.H2O.SAFE.ZS](http://data.worldbank.org/indicator/SH.H2O.SAFE.ZS)\n",
    "- Abonnement téléphone portable (pour 100 pers.)| Banque Mondiale | code: [IT.CEL.SETS.P2](http://data.worldbank.org/indicator/IT.CEL.SETS.P2)\n",
    "- Internautes (pour 100 pers.)| Banque Mondiale | code: [IT.NET.USER.P2](http://data.worldbank.org/indicator/IT.NET.USER.P2)\n",
    "\n",
    "###### Accès à une source d'eau potable \n",
    "\n",
    "<iframe src=\"http://afd.countrydashboards.com/dataviz/TimeSerie_SH_H2O_SAFE_ZS_+Sahel.html\" scrolling=\"no\" frameborder=\"0\" width=\"100%\" height=\"450px\"></iframe>"
   ]
  },
  {
   "cell_type": "markdown",
   "metadata": {
    "deletable": true,
    "editable": true
   },
   "source": [
    "\n",
    "#### Connexion aux réseaux\n",
    "\n",
    "<table style=\"border:0\">\n",
    "<td style=\" width:500px\">\n",
    "<iframe src=\"http://afd.countrydashboards.com/dataviz/TimeSerie_IT_CEL_SETS_P2_+Sahel.html\" scrolling=\"no\" frameborder=\"0\" width=\"100%\" height=\"450px\"></iframe>\n",
    "</td><td style=\" width:500px\">\n",
    "<iframe src=\"http://afd.countrydashboards.com/dataviz/TimeSerie_IT_NET_USER_P2_+Sahel.html\" scrolling=\"no\" frameborder=\"0\" width=\"100%\" height=\"450px\"></iframe>\n",
    "</td>\n",
    "</table>"
   ]
  },
  {
   "cell_type": "markdown",
   "metadata": {
    "deletable": true,
    "editable": true,
    "slideshow": {
     "slide_type": "slide"
    }
   },
   "source": [
    "<br>\n",
    "\n",
    "## IV. Insertion socioéconomique des jeunes\n",
    "\n",
    "---\n",
    "![](http://afd.countrydashboards.com/datastory/insertion4.png)\n",
    "*<small>Copyright: World Politics Review</small>*\n",
    "--\n",
    "---\n",
    "texte introductif\n",
    "\n",
    "\n",
    "<iframe src=\"http://afd.countrydashboards.com/datastory/insertion.html\" scrolling=\"no\" frameborder=\"0\" width=\"100%\" height=\"675px\"></iframe>\n",
    "\n",
    "---\n",
    "\n"
   ]
  },
  {
   "cell_type": "markdown",
   "metadata": {
    "deletable": true,
    "editable": true
   },
   "source": [
    "<br>\n",
    "\n",
    "## V. Gouvernance et sécurité\n",
    "---\n",
    "\n",
    "![](http://afd.countrydashboards.com/datastory/gouv_Danish Institute for International Studies.png)\n",
    "<small>*Copryright: Danish Institute for International Studies*</small>\n",
    "---\n",
    "\n",
    "\n",
    "<iframe src=\"http://afd.countrydashboards.com/dataviz/Confiance_institution.html\" scrolling=\"no\" frameborder=\"0\" width=\"100%\" height=\"475px\"></iframe>\n",
    "\n",
    "---"
   ]
  },
  {
   "cell_type": "markdown",
   "metadata": {
    "deletable": true,
    "editable": true,
    "slideshow": {
     "slide_type": "slide"
    }
   },
   "source": [
    "- Dépenses Militaires | Banque Mondiale | code: [MS.MIL.XPND.GD.ZS](http://data.worldbank.org/indicator/MS.MIL.XPND.GD.ZS)\n",
    "\n",
    "<iframe src=\"http://afd.countrydashboards.com/dataviz/TimeSerie_MS_MIL_XPND_GD_ZS_+Sahel.html\" scrolling=\"no\" frameborder=\"0\" width=\"100%\" height=\"450px\"></iframe>\n"
   ]
  },
  {
   "cell_type": "markdown",
   "metadata": {
    "deletable": true,
    "editable": true,
    "slideshow": {
     "slide_type": "slide"
    }
   },
   "source": [
    "<iframe width=\"100%\" height=\"650\" frameborder=\"0\" src=\"https://rocathomas.carto.com/viz/65ec8cf8-0e59-11e7-8d00-0e3ff518bd15/embed_map\" allowfullscreen webkitallowfullscreen mozallowfullscreen oallowfullscreen msallowfullscreen></iframe>"
   ]
  },
  {
   "cell_type": "markdown",
   "metadata": {
    "deletable": true,
    "editable": true,
    "slideshow": {
     "slide_type": "slide"
    }
   },
   "source": [
    "<br>\n",
    "\n",
    "## Conclusion\n",
    "---\n",
    "\n",
    "<iframe width=\"100%\" height=\"650\" frameborder=\"0\" src=\"https://rocathomas.carto.com/viz/91328fb0-0e0f-11e7-b137-0e3ff518bd15/embed_map\" allowfullscreen webkitallowfullscreen mozallowfullscreen oallowfullscreen msallowfullscreen></iframe>"
   ]
  },
  {
   "cell_type": "code",
   "execution_count": 157,
   "metadata": {
    "collapsed": false,
    "deletable": true,
    "editable": true,
    "slideshow": {
     "slide_type": "skip"
    }
   },
   "outputs": [
    {
     "data": {
      "text/html": [
       "<style>table,td,tr,th {border:0px solid black!important}\n",
       "</style>"
      ],
      "text/plain": [
       "<IPython.core.display.HTML object>"
      ]
     },
     "metadata": {},
     "output_type": "display_data"
    }
   ],
   "source": [
    "%%html\n",
    "<style>table,td,tr,th {border:0px solid black!important}\n",
    "</style>"
   ]
  }
 ],
 "metadata": {
  "celltoolbar": "Slideshow",
  "kernelspec": {
   "display_name": "Python 3",
   "language": "python",
   "name": "python3"
  },
  "language_info": {
   "codemirror_mode": {
    "name": "ipython",
    "version": 3
   },
   "file_extension": ".py",
   "mimetype": "text/x-python",
   "name": "python",
   "nbconvert_exporter": "python",
   "pygments_lexer": "ipython3",
   "version": "3.6.0"
  }
 },
 "nbformat": 4,
 "nbformat_minor": 0
}
